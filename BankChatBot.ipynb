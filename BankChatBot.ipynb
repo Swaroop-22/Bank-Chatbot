{
 "cells": [
  {
   "cell_type": "markdown",
   "id": "bde04c1e-d8df-4663-aa0f-18e6c3eec741",
   "metadata": {},
   "source": [
    "# Chatbot "
   ]
  },
  {
   "cell_type": "code",
   "execution_count": 1,
   "id": "91b9efa8-f784-4ea6-93c0-d6f94087d178",
   "metadata": {},
   "outputs": [
    {
     "name": "stdout",
     "output_type": "stream",
     "text": [
      "1. Create Account\n",
      "2. Deposit\n",
      "3. Withdraw\n",
      "4. Exit\n"
     ]
    },
    {
     "name": "stdin",
     "output_type": "stream",
     "text": [
      "Enter Your Choice:  1\n",
      "Enter Account Number:  12345\n"
     ]
    },
    {
     "name": "stdout",
     "output_type": "stream",
     "text": [
      "Account 12345 Created Successfully\n",
      "1. Create Account\n",
      "2. Deposit\n",
      "3. Withdraw\n",
      "4. Exit\n"
     ]
    },
    {
     "name": "stdin",
     "output_type": "stream",
     "text": [
      "Enter Your Choice:  2\n",
      "Enter Account Number:  1000\n",
      "Enter Amount to Deposit:  12\n"
     ]
    },
    {
     "name": "stdout",
     "output_type": "stream",
     "text": [
      "Account Does Not Exist\n",
      "1. Create Account\n",
      "2. Deposit\n",
      "3. Withdraw\n",
      "4. Exit\n"
     ]
    },
    {
     "name": "stdin",
     "output_type": "stream",
     "text": [
      "Enter Your Choice:  2\n",
      "Enter Account Number:  12345\n",
      "Enter Amount to Deposit:  10\n"
     ]
    },
    {
     "name": "stdout",
     "output_type": "stream",
     "text": [
      "Deposited 10.0 into account 12345. New Balance: 10.0 \n",
      "1. Create Account\n",
      "2. Deposit\n",
      "3. Withdraw\n",
      "4. Exit\n"
     ]
    },
    {
     "name": "stdin",
     "output_type": "stream",
     "text": [
      "Enter Your Choice:  3\n",
      "Enter Account Number:  12345\n",
      "Enter Amount to Withdraw:  100\n"
     ]
    },
    {
     "name": "stdout",
     "output_type": "stream",
     "text": [
      "Insufficient Balance\n",
      "1. Create Account\n",
      "2. Deposit\n",
      "3. Withdraw\n",
      "4. Exit\n"
     ]
    },
    {
     "name": "stdin",
     "output_type": "stream",
     "text": [
      "Enter Your Choice:  2\n",
      "Enter Account Number:  12345\n",
      "Enter Amount to Deposit:  1000\n"
     ]
    },
    {
     "name": "stdout",
     "output_type": "stream",
     "text": [
      "Deposited 1000.0 into account 12345. New Balance: 1010.0 \n",
      "1. Create Account\n",
      "2. Deposit\n",
      "3. Withdraw\n",
      "4. Exit\n"
     ]
    },
    {
     "name": "stdin",
     "output_type": "stream",
     "text": [
      "Enter Your Choice:  3\n",
      "Enter Account Number:  12345\n",
      "Enter Amount to Withdraw:  10\n"
     ]
    },
    {
     "name": "stdout",
     "output_type": "stream",
     "text": [
      "Amount 10.0 has been withdraw from 12345. New Balance: 1000.0\n",
      "1. Create Account\n",
      "2. Deposit\n",
      "3. Withdraw\n",
      "4. Exit\n"
     ]
    },
    {
     "name": "stdin",
     "output_type": "stream",
     "text": [
      "Enter Your Choice:  4\n"
     ]
    },
    {
     "name": "stdout",
     "output_type": "stream",
     "text": [
      "Exiting...\n"
     ]
    }
   ],
   "source": [
    "class BankAccount:\n",
    "    def __init__(self, account_number, balance =0):\n",
    "        self.account_number = account_number\n",
    "        self.balance = balance\n",
    "\n",
    "class BankChatBot:\n",
    "    def __init__(self):\n",
    "        self.accounts = {} #Creating empty dictionary of accounts\n",
    "\n",
    "    def create_account(self, account_number):\n",
    "        if account_number in self.accounts:\n",
    "            return \"Account Number already exists\"\n",
    "        self.accounts[account_number] = BankAccount(account_number)\n",
    "        return f\"Account {account_number} Created Successfully\"\n",
    "\n",
    "    def deposit(self, account_number, amount):\n",
    "        if account_number not in self.accounts:\n",
    "            return \"Account Does Not Exist\"\n",
    "        if amount <= 0:\n",
    "            return \"Invalid Amount\"\n",
    "        self.accounts[account_number].balance += amount\n",
    "        return f\"Deposited {amount} into account {account_number}. New Balance: {self.accounts[account_number].balance} \"\n",
    "\n",
    "    def withdraw(self,account_number, amount):\n",
    "        if account_number not in self.accounts:\n",
    "            return \"Account Does Not Exist\"\n",
    "        if amount <= 0:\n",
    "            return \"Invalid Amount\"\n",
    "        if amount > self.accounts[account_number].balance:\n",
    "            return \"Insufficient Balance\"\n",
    "        self.accounts[account_number].balance -= amount\n",
    "        return f\"Amount {amount} has been withdraw from {account_number}. New Balance: {self.accounts[account_number].balance}\"\n",
    "\n",
    "\n",
    "chatbot = BankChatBot()\n",
    "\n",
    "while True:\n",
    "    print(\"1. Create Account\\n2. Deposit\\n3. Withdraw\\n4. Exit\")\n",
    "    choice = input(\"Enter Your Choice: \")\n",
    "\n",
    "    if choice == '1':\n",
    "        account_number = input(\"Enter Account Number: \")\n",
    "        result = chatbot.create_account(account_number)\n",
    "        print(result)\n",
    "        \n",
    "    elif choice == '2':\n",
    "        account_number = input(\"Enter Account Number: \")\n",
    "        amount = float(input(\"Enter Amount to Deposit: \"))\n",
    "        result = chatbot.deposit(account_number, amount)\n",
    "        print(result)\n",
    "\n",
    "    elif choice == '3':\n",
    "        account_number = input(\"Enter Account Number: \")\n",
    "        amount = float(input(\"Enter Amount to Withdraw: \"))\n",
    "        result = chatbot.withdraw(account_number, amount)\n",
    "        print(result)\n",
    "\n",
    "    elif choice == '4':\n",
    "        print(\"Exiting...\")\n",
    "        break\n",
    "    else:\n",
    "        print(\"Invalid Choice. Please try again.\")"
   ]
  },
  {
   "cell_type": "markdown",
   "id": "0c307655-ddcf-4d22-bd94-a60bc2784093",
   "metadata": {},
   "source": [
    "# Bank Account class"
   ]
  },
  {
   "cell_type": "markdown",
   "id": "04ee42c1-8578-49c4-9ae1-507835195e4f",
   "metadata": {},
   "source": [
    "In this class, I've initialised the account number and balance in an account."
   ]
  },
  {
   "cell_type": "markdown",
   "id": "59f92ac1-f9e2-4584-95fb-da7cf9980b18",
   "metadata": {},
   "source": [
    "# Chatbot class"
   ]
  },
  {
   "cell_type": "markdown",
   "id": "9fd8a2b7-249a-4649-80a5-19e5c777e63b",
   "metadata": {},
   "source": [
    "1. In this class, first I created an empty dictionary in which all accounts will be stored.\n",
    "2. The def create_account(self, account_number) function passes the account_number as a value and it is used to create the account. If the account number already exists in the dictionary then we'll simply return the statement that \"Account already exists\". If it's not then it will create an account for that number.\n",
    "3. The def deposit(self, account_number, amount) function passes the account_number and amount as a value. To deposit the amount in the account we've to check whether the account exists or not. The min amount should be greater than 0 to deposit the amount in the account.\n",
    "4. The def withdraw(self, account_number, amount) function passes the account_number and amount as a value. Again we'll check for account exists or not, if the amount wants to withdraw is greater than the balance in account the it'll show the \"Insufficient Balance\" message.\n"
   ]
  },
  {
   "cell_type": "code",
   "execution_count": null,
   "id": "fe0f7556-08e5-462a-ab1f-6240bb86ac09",
   "metadata": {},
   "outputs": [],
   "source": []
  }
 ],
 "metadata": {
  "kernelspec": {
   "display_name": "Python 3 (ipykernel)",
   "language": "python",
   "name": "python3"
  },
  "language_info": {
   "codemirror_mode": {
    "name": "ipython",
    "version": 3
   },
   "file_extension": ".py",
   "mimetype": "text/x-python",
   "name": "python",
   "nbconvert_exporter": "python",
   "pygments_lexer": "ipython3",
   "version": "3.10.0"
  }
 },
 "nbformat": 4,
 "nbformat_minor": 5
}
